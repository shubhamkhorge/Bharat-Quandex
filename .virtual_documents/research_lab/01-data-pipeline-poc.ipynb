import polars as pl
import duckdb
import plotly.express as px
import sys
import logging
from pathlib import Path
from IPython.display import display

# --- Configuration ---
logging.basicConfig(
    level=logging.INFO,
    format='%(asctime)s | %(levelname)-8s | %(message)s',
    datefmt='%Y-%m-%d %H:%M:%S'
)
logger = logging.getLogger(__name__)

# --- Helper Function ---
def create_visualization(df):
    """Creates and returns a Plotly line chart."""
    try:
        pandas_df = df.to_pandas()
        fig = px.line(
            pandas_df,
            x='date',
            y='close',
            color='symbol',
            title='Close Prices Comparison: Reliance vs. TCS',
            labels={'date': 'Date', 'close': 'Closing Price (INR)', 'symbol': 'Stock Symbol'}
        )
        fig.update_layout(legend_title='Symbol', hovermode='x unified')
        fig.update_xaxes(rangeslider_visible=True)
        return fig
    except Exception as e:
        logger.error(f"Error creating visualization: {e}")
        return None

# --- Main Analysis Block ---
def main_analysis():
    """Main analysis function that reads directly from the DuckDB database."""
    try:
        # --- Setup ---
        project_root = Path.cwd().parent
        if str(project_root) not in sys.path:
            sys.path.append(str(project_root))

        # Import the singleton config object, which holds our DB connection
        from quandex_core.config import config
        logger.info("Successfully imported project configuration.")
        
        # Get the database connection from our shared config
        con = config.data.conn
        logger.info(f"Using shared DuckDB connection to: {config.data.duckdb_path}")

        # --- Database Query ---
        # The query now reads from the 'processed_equity_data' table, not a file.
        # This gives us access to all the calculated indicators!
        query = """
        SELECT
            symbol,
            date,
            close,
            sma_50,
            rsi_14
        FROM processed_equity_data
        WHERE symbol IN (?, ?)
        ORDER BY date
        """
        
        logger.info("Executing DuckDB query on 'processed_equity_data' table...")
        # Use parameterized query for safety and correctness
        results_df = con.execute(query, ['RELIANCE.NS', 'TCS.NS']).pl()

        if results_df.is_empty():
            logger.warning("No data returned from query! Have you run the fetcher to populate the database?")
            logger.warning("Try running a full_refresh if this is the first time.")
            return

        logger.info(f"Retrieved {len(results_df)} records. Data preview:")
        display(results_df.head())

        # --- Visualization ---
        fig = create_visualization(results_df) # This helper function still works!
        if fig:
            fig.show()
            
    except Exception as e:
        logger.error(f"An unexpected error occurred: {e}", exc_info=True)
    finally:
        logger.info("Notebook analysis finished. (DB connection is managed globally)")

# --- Run the analysis ---
# We now wrap this in a main block for clarity
if __name__ == "__main__":
    main_analysis()

































