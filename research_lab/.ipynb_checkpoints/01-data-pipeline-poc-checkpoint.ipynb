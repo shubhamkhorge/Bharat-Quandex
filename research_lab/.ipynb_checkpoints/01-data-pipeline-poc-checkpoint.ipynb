{
 "cells": [
  {
   "cell_type": "code",
   "execution_count": 2,
   "id": "98e61c72-8343-49cf-93d3-8bd8434280df",
   "metadata": {},
   "outputs": [
    {
     "name": "stdout",
     "output_type": "stream",
     "text": [
      "Bharat QuanDex Notebook Environment Initialized\n",
      "Using database: D:\\bharat_quandex\\data_vault\\market_boards\\quandex.duckdb\n"
     ]
    }
   ],
   "source": [
    "import polars as pl\n",
    "import plotly.express as px\n",
    "import sys\n",
    "import logging\n",
    "from pathlib import Path\n",
    "from IPython.display import display\n",
    "\n",
    "# --- Setup Project Path ---\n",
    "# This ensures we can import from our quandex_core package\n",
    "project_root = Path.cwd().parent\n",
    "if str(project_root) not in sys.path:\n",
    "    sys.path.append(str(project_root))\n",
    "\n",
    "# --- Import the Singleton Config ---\n",
    "# This is the key to integration. We use the globally managed config and its resources.\n",
    "from quandex_core.config import config\n",
    "logger = logging.getLogger(__name__)\n",
    "\n",
    "print(\"Bharat QuanDex Notebook Environment Initialized\")\n",
    "print(f\"Using database: {config.data.duckdb_path}\")"
   ]
  },
  {
   "cell_type": "code",
   "execution_count": 3,
   "id": "d858517f-498d-4916-aa13-a3335673f742",
   "metadata": {},
   "outputs": [
    {
     "name": "stderr",
     "output_type": "stream",
     "text": [
      "2025-06-14 01:18:06 | INFO     | Starting analysis...\n",
      "2025-06-14 01:18:06 | INFO     | Executing query for RELIANCE.NS and TCS.NS...\n",
      "2025-06-14 01:18:06 | INFO     | Successfully retrieved 48 records.\n"
     ]
    },
    {
     "name": "stdout",
     "output_type": "stream",
     "text": [
      "\n",
      "--- Data Preview ---\n"
     ]
    },
    {
     "data": {
      "text/html": [
       "<div><style>\n",
       ".dataframe > thead > tr,\n",
       ".dataframe > tbody > tr {\n",
       "  text-align: right;\n",
       "  white-space: pre-wrap;\n",
       "}\n",
       "</style>\n",
       "<small>shape: (5, 9)</small><table border=\"1\" class=\"dataframe\"><thead><tr><th>symbol</th><th>date</th><th>open</th><th>high</th><th>low</th><th>close</th><th>volume</th><th>sma_50</th><th>rsi_14</th></tr><tr><td>str</td><td>date</td><td>f32</td><td>f32</td><td>f32</td><td>f32</td><td>i64</td><td>f64</td><td>f64</td></tr></thead><tbody><tr><td>&quot;TCS.NS&quot;</td><td>2025-05-13</td><td>3620.399902</td><td>3623.0</td><td>3510.5</td><td>3515.0</td><td>3062887</td><td>3515.0</td><td>null</td></tr><tr><td>&quot;RELIANCE.NS&quot;</td><td>2025-05-13</td><td>1433.5</td><td>1447.699951</td><td>1412.400024</td><td>1415.699951</td><td>11407896</td><td>1415.699951</td><td>null</td></tr><tr><td>&quot;TCS.NS&quot;</td><td>2025-05-14</td><td>3521.0</td><td>3561.0</td><td>3508.600098</td><td>3548.699951</td><td>2119499</td><td>3531.849976</td><td>null</td></tr><tr><td>&quot;RELIANCE.NS&quot;</td><td>2025-05-14</td><td>1420.0</td><td>1429.900024</td><td>1415.5</td><td>1424.400024</td><td>5570160</td><td>1420.049988</td><td>null</td></tr><tr><td>&quot;TCS.NS&quot;</td><td>2025-05-15</td><td>3564.0</td><td>3600.0</td><td>3514.100098</td><td>3579.899902</td><td>3548330</td><td>3547.866618</td><td>null</td></tr></tbody></table></div>"
      ],
      "text/plain": [
       "shape: (5, 9)\n",
       "┌─────────────┬────────────┬─────────────┬─────────────┬───┬─────────────┬──────────┬─────────────┬────────┐\n",
       "│ symbol      ┆ date       ┆ open        ┆ high        ┆ … ┆ close       ┆ volume   ┆ sma_50      ┆ rsi_14 │\n",
       "│ ---         ┆ ---        ┆ ---         ┆ ---         ┆   ┆ ---         ┆ ---      ┆ ---         ┆ ---    │\n",
       "│ str         ┆ date       ┆ f32         ┆ f32         ┆   ┆ f32         ┆ i64      ┆ f64         ┆ f64    │\n",
       "╞═════════════╪════════════╪═════════════╪═════════════╪═══╪═════════════╪══════════╪═════════════╪════════╡\n",
       "│ TCS.NS      ┆ 2025-05-13 ┆ 3620.399902 ┆ 3623.0      ┆ … ┆ 3515.0      ┆ 3062887  ┆ 3515.0      ┆ null   │\n",
       "│ RELIANCE.NS ┆ 2025-05-13 ┆ 1433.5      ┆ 1447.699951 ┆ … ┆ 1415.699951 ┆ 11407896 ┆ 1415.699951 ┆ null   │\n",
       "│ TCS.NS      ┆ 2025-05-14 ┆ 3521.0      ┆ 3561.0      ┆ … ┆ 3548.699951 ┆ 2119499  ┆ 3531.849976 ┆ null   │\n",
       "│ RELIANCE.NS ┆ 2025-05-14 ┆ 1420.0      ┆ 1429.900024 ┆ … ┆ 1424.400024 ┆ 5570160  ┆ 1420.049988 ┆ null   │\n",
       "│ TCS.NS      ┆ 2025-05-15 ┆ 3564.0      ┆ 3600.0      ┆ … ┆ 3579.899902 ┆ 3548330  ┆ 3547.866618 ┆ null   │\n",
       "└─────────────┴────────────┴─────────────┴─────────────┴───┴─────────────┴──────────┴─────────────┴────────┘"
      ]
     },
     "metadata": {},
     "output_type": "display_data"
    },
    {
     "name": "stdout",
     "output_type": "stream",
     "text": [
      "\n",
      "--- Price Chart ---\n"
     ]
    },
    {
     "data": {
      "application/vnd.plotly.v1+json": {
       "config": {
        "plotlyServerURL": "https://plot.ly"
       },
       "data": [
        {
         "hovertemplate": "symbol=TCS.NS<br>Date=%{x}<br>Closing Price (INR)=%{y}<extra></extra>",
         "legendgroup": "TCS.NS",
         "line": {
          "color": "#636efa",
          "dash": "solid"
         },
         "marker": {
          "symbol": "circle"
         },
         "mode": "lines",
         "name": "TCS.NS",
         "orientation": "v",
         "showlegend": true,
         "type": "scatter",
         "x": [
          "2025-05-13T00:00:00.000",
          "2025-05-14T00:00:00.000",
          "2025-05-15T00:00:00.000",
          "2025-05-16T00:00:00.000",
          "2025-05-19T00:00:00.000",
          "2025-05-20T00:00:00.000",
          "2025-05-21T00:00:00.000",
          "2025-05-22T00:00:00.000",
          "2025-05-23T00:00:00.000",
          "2025-05-26T00:00:00.000",
          "2025-05-27T00:00:00.000",
          "2025-05-28T00:00:00.000",
          "2025-05-29T00:00:00.000",
          "2025-05-30T00:00:00.000",
          "2025-06-02T00:00:00.000",
          "2025-06-03T00:00:00.000",
          "2025-06-04T00:00:00.000",
          "2025-06-05T00:00:00.000",
          "2025-06-06T00:00:00.000",
          "2025-06-09T00:00:00.000",
          "2025-06-10T00:00:00.000",
          "2025-06-11T00:00:00.000",
          "2025-06-12T00:00:00.000",
          "2025-06-13T00:00:00.000"
         ],
         "xaxis": "x",
         "y": {
          "bdata": "ALBbRTPLXUVmvl9FzZReRc3sW0XNpFpFzVxcRQBQWUWaqVtFzRRdRTOrWkUzm1pFmqFaRWZ2WEXNnFdFM9NURWZOU0WasVJFM4NTRWbeVUVmblhFZv5YRTOjVkUzW1dF",
          "dtype": "f4"
         },
         "yaxis": "y"
        },
        {
         "hovertemplate": "symbol=RELIANCE.NS<br>Date=%{x}<br>Closing Price (INR)=%{y}<extra></extra>",
         "legendgroup": "RELIANCE.NS",
         "line": {
          "color": "#EF553B",
          "dash": "solid"
         },
         "marker": {
          "symbol": "circle"
         },
         "mode": "lines",
         "name": "RELIANCE.NS",
         "orientation": "v",
         "showlegend": true,
         "type": "scatter",
         "x": [
          "2025-05-13T00:00:00.000",
          "2025-05-14T00:00:00.000",
          "2025-05-15T00:00:00.000",
          "2025-05-16T00:00:00.000",
          "2025-05-19T00:00:00.000",
          "2025-05-20T00:00:00.000",
          "2025-05-21T00:00:00.000",
          "2025-05-22T00:00:00.000",
          "2025-05-23T00:00:00.000",
          "2025-05-26T00:00:00.000",
          "2025-05-27T00:00:00.000",
          "2025-05-28T00:00:00.000",
          "2025-05-29T00:00:00.000",
          "2025-05-30T00:00:00.000",
          "2025-06-02T00:00:00.000",
          "2025-06-03T00:00:00.000",
          "2025-06-04T00:00:00.000",
          "2025-06-05T00:00:00.000",
          "2025-06-06T00:00:00.000",
          "2025-06-09T00:00:00.000",
          "2025-06-10T00:00:00.000",
          "2025-06-11T00:00:00.000",
          "2025-06-12T00:00:00.000",
          "2025-06-13T00:00:00.000"
         ],
         "xaxis": "x",
         "y": {
          "bdata": "ZvawRM0MskRmxrVEzQy2RJoZtEQzE7JEZqayRM0ssESaWbJEmlmzRDPDsUTNnLBEmjmxRM2csURmtrBEALCvRADwsUTNTLREAHC0RJoZtUQA0LNEzRy1RDMztETNfLJE",
          "dtype": "f4"
         },
         "yaxis": "y"
        }
       ],
       "layout": {
        "hovermode": "x unified",
        "legend": {
         "title": {
          "text": "Symbol"
         },
         "tracegroupgap": 0
        },
        "template": {
         "data": {
          "bar": [
           {
            "error_x": {
             "color": "#2a3f5f"
            },
            "error_y": {
             "color": "#2a3f5f"
            },
            "marker": {
             "line": {
              "color": "#E5ECF6",
              "width": 0.5
             },
             "pattern": {
              "fillmode": "overlay",
              "size": 10,
              "solidity": 0.2
             }
            },
            "type": "bar"
           }
          ],
          "barpolar": [
           {
            "marker": {
             "line": {
              "color": "#E5ECF6",
              "width": 0.5
             },
             "pattern": {
              "fillmode": "overlay",
              "size": 10,
              "solidity": 0.2
             }
            },
            "type": "barpolar"
           }
          ],
          "carpet": [
           {
            "aaxis": {
             "endlinecolor": "#2a3f5f",
             "gridcolor": "white",
             "linecolor": "white",
             "minorgridcolor": "white",
             "startlinecolor": "#2a3f5f"
            },
            "baxis": {
             "endlinecolor": "#2a3f5f",
             "gridcolor": "white",
             "linecolor": "white",
             "minorgridcolor": "white",
             "startlinecolor": "#2a3f5f"
            },
            "type": "carpet"
           }
          ],
          "choropleth": [
           {
            "colorbar": {
             "outlinewidth": 0,
             "ticks": ""
            },
            "type": "choropleth"
           }
          ],
          "contour": [
           {
            "colorbar": {
             "outlinewidth": 0,
             "ticks": ""
            },
            "colorscale": [
             [
              0,
              "#0d0887"
             ],
             [
              0.1111111111111111,
              "#46039f"
             ],
             [
              0.2222222222222222,
              "#7201a8"
             ],
             [
              0.3333333333333333,
              "#9c179e"
             ],
             [
              0.4444444444444444,
              "#bd3786"
             ],
             [
              0.5555555555555556,
              "#d8576b"
             ],
             [
              0.6666666666666666,
              "#ed7953"
             ],
             [
              0.7777777777777778,
              "#fb9f3a"
             ],
             [
              0.8888888888888888,
              "#fdca26"
             ],
             [
              1,
              "#f0f921"
             ]
            ],
            "type": "contour"
           }
          ],
          "contourcarpet": [
           {
            "colorbar": {
             "outlinewidth": 0,
             "ticks": ""
            },
            "type": "contourcarpet"
           }
          ],
          "heatmap": [
           {
            "colorbar": {
             "outlinewidth": 0,
             "ticks": ""
            },
            "colorscale": [
             [
              0,
              "#0d0887"
             ],
             [
              0.1111111111111111,
              "#46039f"
             ],
             [
              0.2222222222222222,
              "#7201a8"
             ],
             [
              0.3333333333333333,
              "#9c179e"
             ],
             [
              0.4444444444444444,
              "#bd3786"
             ],
             [
              0.5555555555555556,
              "#d8576b"
             ],
             [
              0.6666666666666666,
              "#ed7953"
             ],
             [
              0.7777777777777778,
              "#fb9f3a"
             ],
             [
              0.8888888888888888,
              "#fdca26"
             ],
             [
              1,
              "#f0f921"
             ]
            ],
            "type": "heatmap"
           }
          ],
          "histogram": [
           {
            "marker": {
             "pattern": {
              "fillmode": "overlay",
              "size": 10,
              "solidity": 0.2
             }
            },
            "type": "histogram"
           }
          ],
          "histogram2d": [
           {
            "colorbar": {
             "outlinewidth": 0,
             "ticks": ""
            },
            "colorscale": [
             [
              0,
              "#0d0887"
             ],
             [
              0.1111111111111111,
              "#46039f"
             ],
             [
              0.2222222222222222,
              "#7201a8"
             ],
             [
              0.3333333333333333,
              "#9c179e"
             ],
             [
              0.4444444444444444,
              "#bd3786"
             ],
             [
              0.5555555555555556,
              "#d8576b"
             ],
             [
              0.6666666666666666,
              "#ed7953"
             ],
             [
              0.7777777777777778,
              "#fb9f3a"
             ],
             [
              0.8888888888888888,
              "#fdca26"
             ],
             [
              1,
              "#f0f921"
             ]
            ],
            "type": "histogram2d"
           }
          ],
          "histogram2dcontour": [
           {
            "colorbar": {
             "outlinewidth": 0,
             "ticks": ""
            },
            "colorscale": [
             [
              0,
              "#0d0887"
             ],
             [
              0.1111111111111111,
              "#46039f"
             ],
             [
              0.2222222222222222,
              "#7201a8"
             ],
             [
              0.3333333333333333,
              "#9c179e"
             ],
             [
              0.4444444444444444,
              "#bd3786"
             ],
             [
              0.5555555555555556,
              "#d8576b"
             ],
             [
              0.6666666666666666,
              "#ed7953"
             ],
             [
              0.7777777777777778,
              "#fb9f3a"
             ],
             [
              0.8888888888888888,
              "#fdca26"
             ],
             [
              1,
              "#f0f921"
             ]
            ],
            "type": "histogram2dcontour"
           }
          ],
          "mesh3d": [
           {
            "colorbar": {
             "outlinewidth": 0,
             "ticks": ""
            },
            "type": "mesh3d"
           }
          ],
          "parcoords": [
           {
            "line": {
             "colorbar": {
              "outlinewidth": 0,
              "ticks": ""
             }
            },
            "type": "parcoords"
           }
          ],
          "pie": [
           {
            "automargin": true,
            "type": "pie"
           }
          ],
          "scatter": [
           {
            "fillpattern": {
             "fillmode": "overlay",
             "size": 10,
             "solidity": 0.2
            },
            "type": "scatter"
           }
          ],
          "scatter3d": [
           {
            "line": {
             "colorbar": {
              "outlinewidth": 0,
              "ticks": ""
             }
            },
            "marker": {
             "colorbar": {
              "outlinewidth": 0,
              "ticks": ""
             }
            },
            "type": "scatter3d"
           }
          ],
          "scattercarpet": [
           {
            "marker": {
             "colorbar": {
              "outlinewidth": 0,
              "ticks": ""
             }
            },
            "type": "scattercarpet"
           }
          ],
          "scattergeo": [
           {
            "marker": {
             "colorbar": {
              "outlinewidth": 0,
              "ticks": ""
             }
            },
            "type": "scattergeo"
           }
          ],
          "scattergl": [
           {
            "marker": {
             "colorbar": {
              "outlinewidth": 0,
              "ticks": ""
             }
            },
            "type": "scattergl"
           }
          ],
          "scattermap": [
           {
            "marker": {
             "colorbar": {
              "outlinewidth": 0,
              "ticks": ""
             }
            },
            "type": "scattermap"
           }
          ],
          "scattermapbox": [
           {
            "marker": {
             "colorbar": {
              "outlinewidth": 0,
              "ticks": ""
             }
            },
            "type": "scattermapbox"
           }
          ],
          "scatterpolar": [
           {
            "marker": {
             "colorbar": {
              "outlinewidth": 0,
              "ticks": ""
             }
            },
            "type": "scatterpolar"
           }
          ],
          "scatterpolargl": [
           {
            "marker": {
             "colorbar": {
              "outlinewidth": 0,
              "ticks": ""
             }
            },
            "type": "scatterpolargl"
           }
          ],
          "scatterternary": [
           {
            "marker": {
             "colorbar": {
              "outlinewidth": 0,
              "ticks": ""
             }
            },
            "type": "scatterternary"
           }
          ],
          "surface": [
           {
            "colorbar": {
             "outlinewidth": 0,
             "ticks": ""
            },
            "colorscale": [
             [
              0,
              "#0d0887"
             ],
             [
              0.1111111111111111,
              "#46039f"
             ],
             [
              0.2222222222222222,
              "#7201a8"
             ],
             [
              0.3333333333333333,
              "#9c179e"
             ],
             [
              0.4444444444444444,
              "#bd3786"
             ],
             [
              0.5555555555555556,
              "#d8576b"
             ],
             [
              0.6666666666666666,
              "#ed7953"
             ],
             [
              0.7777777777777778,
              "#fb9f3a"
             ],
             [
              0.8888888888888888,
              "#fdca26"
             ],
             [
              1,
              "#f0f921"
             ]
            ],
            "type": "surface"
           }
          ],
          "table": [
           {
            "cells": {
             "fill": {
              "color": "#EBF0F8"
             },
             "line": {
              "color": "white"
             }
            },
            "header": {
             "fill": {
              "color": "#C8D4E3"
             },
             "line": {
              "color": "white"
             }
            },
            "type": "table"
           }
          ]
         },
         "layout": {
          "annotationdefaults": {
           "arrowcolor": "#2a3f5f",
           "arrowhead": 0,
           "arrowwidth": 1
          },
          "autotypenumbers": "strict",
          "coloraxis": {
           "colorbar": {
            "outlinewidth": 0,
            "ticks": ""
           }
          },
          "colorscale": {
           "diverging": [
            [
             0,
             "#8e0152"
            ],
            [
             0.1,
             "#c51b7d"
            ],
            [
             0.2,
             "#de77ae"
            ],
            [
             0.3,
             "#f1b6da"
            ],
            [
             0.4,
             "#fde0ef"
            ],
            [
             0.5,
             "#f7f7f7"
            ],
            [
             0.6,
             "#e6f5d0"
            ],
            [
             0.7,
             "#b8e186"
            ],
            [
             0.8,
             "#7fbc41"
            ],
            [
             0.9,
             "#4d9221"
            ],
            [
             1,
             "#276419"
            ]
           ],
           "sequential": [
            [
             0,
             "#0d0887"
            ],
            [
             0.1111111111111111,
             "#46039f"
            ],
            [
             0.2222222222222222,
             "#7201a8"
            ],
            [
             0.3333333333333333,
             "#9c179e"
            ],
            [
             0.4444444444444444,
             "#bd3786"
            ],
            [
             0.5555555555555556,
             "#d8576b"
            ],
            [
             0.6666666666666666,
             "#ed7953"
            ],
            [
             0.7777777777777778,
             "#fb9f3a"
            ],
            [
             0.8888888888888888,
             "#fdca26"
            ],
            [
             1,
             "#f0f921"
            ]
           ],
           "sequentialminus": [
            [
             0,
             "#0d0887"
            ],
            [
             0.1111111111111111,
             "#46039f"
            ],
            [
             0.2222222222222222,
             "#7201a8"
            ],
            [
             0.3333333333333333,
             "#9c179e"
            ],
            [
             0.4444444444444444,
             "#bd3786"
            ],
            [
             0.5555555555555556,
             "#d8576b"
            ],
            [
             0.6666666666666666,
             "#ed7953"
            ],
            [
             0.7777777777777778,
             "#fb9f3a"
            ],
            [
             0.8888888888888888,
             "#fdca26"
            ],
            [
             1,
             "#f0f921"
            ]
           ]
          },
          "colorway": [
           "#636efa",
           "#EF553B",
           "#00cc96",
           "#ab63fa",
           "#FFA15A",
           "#19d3f3",
           "#FF6692",
           "#B6E880",
           "#FF97FF",
           "#FECB52"
          ],
          "font": {
           "color": "#2a3f5f"
          },
          "geo": {
           "bgcolor": "white",
           "lakecolor": "white",
           "landcolor": "#E5ECF6",
           "showlakes": true,
           "showland": true,
           "subunitcolor": "white"
          },
          "hoverlabel": {
           "align": "left"
          },
          "hovermode": "closest",
          "mapbox": {
           "style": "light"
          },
          "paper_bgcolor": "white",
          "plot_bgcolor": "#E5ECF6",
          "polar": {
           "angularaxis": {
            "gridcolor": "white",
            "linecolor": "white",
            "ticks": ""
           },
           "bgcolor": "#E5ECF6",
           "radialaxis": {
            "gridcolor": "white",
            "linecolor": "white",
            "ticks": ""
           }
          },
          "scene": {
           "xaxis": {
            "backgroundcolor": "#E5ECF6",
            "gridcolor": "white",
            "gridwidth": 2,
            "linecolor": "white",
            "showbackground": true,
            "ticks": "",
            "zerolinecolor": "white"
           },
           "yaxis": {
            "backgroundcolor": "#E5ECF6",
            "gridcolor": "white",
            "gridwidth": 2,
            "linecolor": "white",
            "showbackground": true,
            "ticks": "",
            "zerolinecolor": "white"
           },
           "zaxis": {
            "backgroundcolor": "#E5ECF6",
            "gridcolor": "white",
            "gridwidth": 2,
            "linecolor": "white",
            "showbackground": true,
            "ticks": "",
            "zerolinecolor": "white"
           }
          },
          "shapedefaults": {
           "line": {
            "color": "#2a3f5f"
           }
          },
          "ternary": {
           "aaxis": {
            "gridcolor": "white",
            "linecolor": "white",
            "ticks": ""
           },
           "baxis": {
            "gridcolor": "white",
            "linecolor": "white",
            "ticks": ""
           },
           "bgcolor": "#E5ECF6",
           "caxis": {
            "gridcolor": "white",
            "linecolor": "white",
            "ticks": ""
           }
          },
          "title": {
           "x": 0.05
          },
          "xaxis": {
           "automargin": true,
           "gridcolor": "white",
           "linecolor": "white",
           "ticks": "",
           "title": {
            "standoff": 15
           },
           "zerolinecolor": "white",
           "zerolinewidth": 2
          },
          "yaxis": {
           "automargin": true,
           "gridcolor": "white",
           "linecolor": "white",
           "ticks": "",
           "title": {
            "standoff": 15
           },
           "zerolinecolor": "white",
           "zerolinewidth": 2
          }
         }
        },
        "title": {
         "text": "Close Price History: Reliance vs. TCS"
        },
        "xaxis": {
         "anchor": "y",
         "domain": [
          0,
          1
         ],
         "rangeslider": {
          "visible": true
         },
         "title": {
          "text": "Date"
         }
        },
        "yaxis": {
         "anchor": "x",
         "domain": [
          0,
          1
         ],
         "title": {
          "text": "Closing Price (INR)"
         }
        }
       }
      },
      "image/png": "[encoded data removed]"
     },
     "metadata": {},
     "output_type": "display_data"
    }
   ],
   "source": [
    "# --- Main Analysis Block ---\n",
    "logger.info(\"Starting analysis...\")\n",
    "\n",
    "try:\n",
    "    # Use the shared connection from our global config object\n",
    "    conn = config.data.conn\n",
    "    \n",
    "    # --- 1. Database Query ---\n",
    "    # Query the processed data table directly.\n",
    "    query = \"\"\"\n",
    "    SELECT\n",
    "        symbol, date, open, high, low, close, volume, sma_50, rsi_14\n",
    "    FROM processed_equity_data\n",
    "    WHERE symbol IN (?, ?)\n",
    "    ORDER BY date\n",
    "    \"\"\"\n",
    "    \n",
    "    logger.info(\"Executing query for RELIANCE.NS and TCS.NS...\")\n",
    "    results_df = conn.execute(query, ['RELIANCE.NS', 'TCS.NS']).pl()\n",
    "\n",
    "    if results_df.is_empty():\n",
    "        logger.error(\"Query returned no data! Please run the full_refresh in the fetcher first.\")\n",
    "    else:\n",
    "        logger.info(f\"Successfully retrieved {results_df.height} records.\")\n",
    "        \n",
    "        # --- 2. Display Data Preview ---\n",
    "        print(\"\\n--- Data Preview ---\")\n",
    "        display(results_df.head())\n",
    "        \n",
    "        # --- 3. Create Visualization ---\n",
    "        print(\"\\n--- Price Chart ---\")\n",
    "        pandas_df = results_df.to_pandas()\n",
    "        fig = px.line(\n",
    "            pandas_df, x='date', y='close', color='symbol',\n",
    "            title='Close Price History: Reliance vs. TCS',\n",
    "            labels={'date': 'Date', 'close': 'Closing Price (INR)'}\n",
    "        )\n",
    "        fig.update_layout(legend_title='Symbol', hovermode='x unified')\n",
    "        fig.update_xaxes(rangeslider_visible=True)\n",
    "        fig.show()\n",
    "\n",
    "except Exception as e:\n",
    "    logger.exception(\"An error occurred during analysis:\")"
   ]
  },
  {
   "cell_type": "code",
   "execution_count": 5,
   "id": "38b30114-963e-4230-a7be-9822054c8402",
   "metadata": {},
   "outputs": [
    {
     "name": "stdout",
     "output_type": "stream",
     "text": [
      "\n",
      "--- Summary Statistics ---\n"
     ]
    },
    {
     "data": {
      "text/html": [
       "<div><style>\n",
       ".dataframe > thead > tr,\n",
       ".dataframe > tbody > tr {\n",
       "  text-align: right;\n",
       "  white-space: pre-wrap;\n",
       "}\n",
       "</style>\n",
       "<small>shape: (2, 7)</small><table border=\"1\" class=\"dataframe\"><thead><tr><th>symbol</th><th>record_count</th><th>start_date</th><th>end_date</th><th>avg_close</th><th>volatility</th><th>avg_volume</th></tr><tr><td>str</td><td>u32</td><td>date</td><td>date</td><td>f32</td><td>f32</td><td>f64</td></tr></thead><tbody><tr><td>&quot;TCS.NS&quot;</td><td>24</td><td>2025-05-13</td><td>2025-06-13</td><td>3477.599854</td><td>57.658009</td><td>2.3801e6</td></tr><tr><td>&quot;RELIANCE.NS&quot;</td><td>24</td><td>2025-05-13</td><td>2025-06-13</td><td>1430.179199</td><td>14.557685</td><td>9.6395e6</td></tr></tbody></table></div>"
      ],
      "text/plain": [
       "shape: (2, 7)\n",
       "┌─────────────┬──────────────┬────────────┬────────────┬─────────────┬────────────┬────────────┐\n",
       "│ symbol      ┆ record_count ┆ start_date ┆ end_date   ┆ avg_close   ┆ volatility ┆ avg_volume │\n",
       "│ ---         ┆ ---          ┆ ---        ┆ ---        ┆ ---         ┆ ---        ┆ ---        │\n",
       "│ str         ┆ u32          ┆ date       ┆ date       ┆ f32         ┆ f32        ┆ f64        │\n",
       "╞═════════════╪══════════════╪════════════╪════════════╪═════════════╪════════════╪════════════╡\n",
       "│ TCS.NS      ┆ 24           ┆ 2025-05-13 ┆ 2025-06-13 ┆ 3477.599854 ┆ 57.658009  ┆ 2.3801e6   │\n",
       "│ RELIANCE.NS ┆ 24           ┆ 2025-05-13 ┆ 2025-06-13 ┆ 1430.179199 ┆ 14.557685  ┆ 9.6395e6   │\n",
       "└─────────────┴──────────────┴────────────┴────────────┴─────────────┴────────────┴────────────┘"
      ]
     },
     "metadata": {},
     "output_type": "display_data"
    },
    {
     "name": "stdout",
     "output_type": "stream",
     "text": [
      "\n",
      "--- Price Correlation Matrix ---\n"
     ]
    },
    {
     "name": "stderr",
     "output_type": "stream",
     "text": [
      "C:\\Users\\shubh\\AppData\\Local\\Temp\\ipykernel_8688\\989493799.py:19: DeprecationWarning:\n",
      "\n",
      "the argument `columns` for `DataFrame.pivot` is deprecated. It was renamed to `on` in version 1.0.0.\n",
      "\n"
     ]
    },
    {
     "data": {
      "text/html": [
       "<div><style>\n",
       ".dataframe > thead > tr,\n",
       ".dataframe > tbody > tr {\n",
       "  text-align: right;\n",
       "  white-space: pre-wrap;\n",
       "}\n",
       "</style>\n",
       "<small>shape: (2, 2)</small><table border=\"1\" class=\"dataframe\"><thead><tr><th>TCS.NS</th><th>RELIANCE.NS</th></tr><tr><td>f64</td><td>f64</td></tr></thead><tbody><tr><td>1.0</td><td>0.11157</td></tr><tr><td>0.11157</td><td>1.0</td></tr></tbody></table></div>"
      ],
      "text/plain": [
       "shape: (2, 2)\n",
       "┌─────────┬─────────────┐\n",
       "│ TCS.NS  ┆ RELIANCE.NS │\n",
       "│ ---     ┆ ---         │\n",
       "│ f64     ┆ f64         │\n",
       "╞═════════╪═════════════╡\n",
       "│ 1.0     ┆ 0.11157     │\n",
       "│ 0.11157 ┆ 1.0         │\n",
       "└─────────┴─────────────┘"
      ]
     },
     "metadata": {},
     "output_type": "display_data"
    }
   ],
   "source": [
    "# Cell 3: Summary Statistics & Correlation Analysis\n",
    "\n",
    "# --- Deeper Analysis ---\n",
    "if not results_df.is_empty():\n",
    "    # --- 1. Summary Statistics ---\n",
    "    print(\"\\n--- Summary Statistics ---\")\n",
    "    summary_df = results_df.group_by(\"symbol\").agg([\n",
    "        pl.col(\"close\").count().alias(\"record_count\"),\n",
    "        pl.col(\"date\").min().alias(\"start_date\"),\n",
    "        pl.col(\"date\").max().alias(\"end_date\"),\n",
    "        pl.col(\"close\").mean().alias(\"avg_close\"),\n",
    "        pl.col(\"close\").std().alias(\"volatility\"),\n",
    "        pl.col(\"volume\").mean().alias(\"avg_volume\")\n",
    "    ])\n",
    "    display(summary_df)\n",
    "\n",
    "    # --- 2. Correlation Analysis ---\n",
    "    print(\"\\n--- Price Correlation Matrix ---\")\n",
    "    pivoted_df = results_df.pivot(\n",
    "        index=\"date\",\n",
    "        columns=\"symbol\",\n",
    "        values=\"close\"\n",
    "    ).drop_nulls()\n",
    "\n",
    "    # for the correlation matrix calculation. We select all columns\n",
    "    # except the 'date' column.\n",
    "    correlation_matrix = pivoted_df.select(\n",
    "        pl.all().exclude(\"date\")\n",
    "    ).corr()\n",
    "    # -----------------------\n",
    "    \n",
    "    display(correlation_matrix)\n",
    "    \n",
    "else:\n",
    "    logger.warning(\"Skipping deeper analysis as no data was loaded in the previous step.\")"
   ]
  },
  {
   "cell_type": "code",
   "execution_count": null,
   "id": "aa715e28-771d-4de1-b087-8ec378568cff",
   "metadata": {},
   "outputs": [],
   "source": []
  }
 ],
 "metadata": {
  "kernelspec": {
   "display_name": "Python 3 (ipykernel)",
   "language": "python",
   "name": "python3"
  },
  "language_info": {
   "codemirror_mode": {
    "name": "ipython",
    "version": 3
   },
   "file_extension": ".py",
   "mimetype": "text/x-python",
   "name": "python",
   "nbconvert_exporter": "python",
   "pygments_lexer": "ipython3",
   "version": "3.13.3"
  }
 },
 "nbformat": 4,
 "nbformat_minor": 5
}
