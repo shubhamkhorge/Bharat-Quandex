{
 "cells": [
  {
   "cell_type": "code",
   "execution_count": 6,
   "id": "98e61c72-8343-49cf-93d3-8bd8434280df",
   "metadata": {},
   "outputs": [
    {
     "ename": "ModuleNotFoundError",
     "evalue": "No module named 'polars'",
     "output_type": "error",
     "traceback": [
      "\u001b[1;31m---------------------------------------------------------------------------\u001b[0m",
      "\u001b[1;31mModuleNotFoundError\u001b[0m                       Traceback (most recent call last)",
      "Cell \u001b[1;32mIn[6], line 1\u001b[0m\n\u001b[1;32m----> 1\u001b[0m \u001b[38;5;28;01mimport\u001b[39;00m \u001b[38;5;21;01mpolars\u001b[39;00m \u001b[38;5;28;01mas\u001b[39;00m \u001b[38;5;21;01mpl\u001b[39;00m\n\u001b[0;32m      2\u001b[0m \u001b[38;5;28;01mimport\u001b[39;00m \u001b[38;5;21;01mduckdb\u001b[39;00m\n\u001b[0;32m      3\u001b[0m \u001b[38;5;28;01mimport\u001b[39;00m \u001b[38;5;21;01mplotly\u001b[39;00m\u001b[38;5;21;01m.\u001b[39;00m\u001b[38;5;21;01mexpress\u001b[39;00m \u001b[38;5;28;01mas\u001b[39;00m \u001b[38;5;21;01mpx\u001b[39;00m\n",
      "\u001b[1;31mModuleNotFoundError\u001b[0m: No module named 'polars'"
     ]
    }
   ],
   "source": [
    "import polars as pl\n",
    "import duckdb\n",
    "import plotly.express as px\n",
    "import sys\n",
    "import logging\n",
    "from pathlib import Path\n",
    "from IPython.display import display\n",
    "\n",
    "# --- Configuration ---\n",
    "logging.basicConfig(\n",
    "    level=logging.INFO,\n",
    "    format='%(asctime)s | %(levelname)-8s | %(message)s',\n",
    "    datefmt='%Y-%m-%d %H:%M:%S'\n",
    ")\n",
    "logger = logging.getLogger(__name__)\n",
    "\n",
    "# --- Helper Function ---\n",
    "def create_visualization(df):\n",
    "    \"\"\"Creates and returns a Plotly line chart.\"\"\"\n",
    "    try:\n",
    "        pandas_df = df.to_pandas()\n",
    "        fig = px.line(\n",
    "            pandas_df,\n",
    "            x='date',\n",
    "            y='close',\n",
    "            color='symbol',\n",
    "            title='Close Prices Comparison: Reliance vs. TCS',\n",
    "            labels={'date': 'Date', 'close': 'Closing Price (INR)', 'symbol': 'Stock Symbol'}\n",
    "        )\n",
    "        fig.update_layout(legend_title='Symbol', hovermode='x unified')\n",
    "        fig.update_xaxes(rangeslider_visible=True)\n",
    "        return fig\n",
    "    except Exception as e:\n",
    "        logger.error(f\"Error creating visualization: {e}\")\n",
    "        return None\n",
    "\n",
    "# --- Main Analysis Block ---\n",
    "def main_analysis():\n",
    "    \"\"\"Main analysis function that reads directly from the DuckDB database.\"\"\"\n",
    "    try:\n",
    "        # --- Setup ---\n",
    "        project_root = Path.cwd().parent\n",
    "        if str(project_root) not in sys.path:\n",
    "            sys.path.append(str(project_root))\n",
    "\n",
    "        # Import the singleton config object, which holds our DB connection\n",
    "        from quandex_core.config import config\n",
    "        logger.info(\"Successfully imported project configuration.\")\n",
    "        \n",
    "        # Get the database connection from our shared config\n",
    "        con = config.data.conn\n",
    "        logger.info(f\"Using shared DuckDB connection to: {config.data.duckdb_path}\")\n",
    "\n",
    "        # --- Database Query ---\n",
    "        # The query now reads from the 'processed_equity_data' table, not a file.\n",
    "        # This gives us access to all the calculated indicators!\n",
    "        query = \"\"\"\n",
    "        SELECT\n",
    "            symbol,\n",
    "            date,\n",
    "            close,\n",
    "            sma_50,\n",
    "            rsi_14\n",
    "        FROM processed_equity_data\n",
    "        WHERE symbol IN (?, ?)\n",
    "        ORDER BY date\n",
    "        \"\"\"\n",
    "        \n",
    "        logger.info(\"Executing DuckDB query on 'processed_equity_data' table...\")\n",
    "        # Use parameterized query for safety and correctness\n",
    "        results_df = con.execute(query, ['RELIANCE.NS', 'TCS.NS']).pl()\n",
    "\n",
    "        if results_df.is_empty():\n",
    "            logger.warning(\"No data returned from query! Have you run the fetcher to populate the database?\")\n",
    "            logger.warning(\"Try running a full_refresh if this is the first time.\")\n",
    "            return\n",
    "\n",
    "        logger.info(f\"Retrieved {len(results_df)} records. Data preview:\")\n",
    "        display(results_df.head())\n",
    "\n",
    "        # --- Visualization ---\n",
    "        fig = create_visualization(results_df) # This helper function still works!\n",
    "        if fig:\n",
    "            fig.show()\n",
    "            \n",
    "    except Exception as e:\n",
    "        logger.error(f\"An unexpected error occurred: {e}\", exc_info=True)\n",
    "    finally:\n",
    "        logger.info(\"Notebook analysis finished. (DB connection is managed globally)\")\n",
    "\n",
    "# --- Run the analysis ---\n",
    "# We now wrap this in a main block for clarity\n",
    "if __name__ == \"__main__\":\n",
    "    main_analysis()"
   ]
  },
  {
   "cell_type": "code",
   "execution_count": null,
   "id": "13ba922c-d161-476b-a587-14890ecf8e1c",
   "metadata": {},
   "outputs": [],
   "source": []
  },
  {
   "cell_type": "code",
   "execution_count": null,
   "id": "a1369a08-24dc-4eb0-a1e3-a74dc2900c2c",
   "metadata": {},
   "outputs": [],
   "source": []
  },
  {
   "cell_type": "code",
   "execution_count": null,
   "id": "2791bc1a-6f87-44ca-b3e6-0642fafda1c1",
   "metadata": {},
   "outputs": [],
   "source": []
  },
  {
   "cell_type": "code",
   "execution_count": null,
   "id": "a605d093-cc63-4909-a78e-0e7e359a4d0c",
   "metadata": {},
   "outputs": [],
   "source": []
  },
  {
   "cell_type": "code",
   "execution_count": null,
   "id": "e1407edd-52fa-4370-92ff-309e2f4e0c85",
   "metadata": {},
   "outputs": [],
   "source": []
  },
  {
   "cell_type": "code",
   "execution_count": null,
   "id": "f362a8cc-8052-4638-98ec-872d81ca3cf6",
   "metadata": {},
   "outputs": [],
   "source": []
  },
  {
   "cell_type": "code",
   "execution_count": null,
   "id": "6a9b9d70-3c68-474f-b892-26cd3f2fcc8e",
   "metadata": {},
   "outputs": [],
   "source": []
  },
  {
   "cell_type": "code",
   "execution_count": null,
   "id": "9b609f54-a6bb-4d8d-ac3a-b207d8f8e72e",
   "metadata": {},
   "outputs": [],
   "source": []
  },
  {
   "cell_type": "code",
   "execution_count": null,
   "id": "7c85ddf5-e6c2-4efb-ba1c-dddb24665a95",
   "metadata": {},
   "outputs": [],
   "source": []
  },
  {
   "cell_type": "code",
   "execution_count": null,
   "id": "821b0991-1469-4c0b-9b04-977fe21e7358",
   "metadata": {},
   "outputs": [],
   "source": []
  },
  {
   "cell_type": "code",
   "execution_count": null,
   "id": "d858517f-498d-4916-aa13-a3335673f742",
   "metadata": {},
   "outputs": [],
   "source": []
  }
 ],
 "metadata": {
  "kernelspec": {
   "display_name": "Python 3 (ipykernel)",
   "language": "python",
   "name": "python3"
  },
  "language_info": {
   "codemirror_mode": {
    "name": "ipython",
    "version": 3
   },
   "file_extension": ".py",
   "mimetype": "text/x-python",
   "name": "python",
   "nbconvert_exporter": "python",
   "pygments_lexer": "ipython3",
   "version": "3.13.3"
  }
 },
 "nbformat": 4,
 "nbformat_minor": 5
}
